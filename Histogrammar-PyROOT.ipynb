{
 "cells": [
  {
   "cell_type": "markdown",
   "metadata": {},
   "source": [
    "# Making PyROOT plots\n",
    "\n",
    "## Summary:\n",
    "If you are working with Histogrammar in Python and want to use ROOT to draw plots, read this notebook.\n",
    "\n",
    "**Original Author:** [Jim Pivarski](http://histogrammar.org/docs/tutorials/python-pyroot/)\n",
    "\n",
    "## Preliminaries\n",
    "This tutorial uses the Python version of Histogrammar. See the installation guide for installing version 1.0.4 or later."
   ]
  },
  {
   "cell_type": "code",
   "execution_count": 32,
   "metadata": {
    "collapsed": true
   },
   "outputs": [],
   "source": [
    "!pip install histogrammar --user"
   ]
  },
  {
   "cell_type": "markdown",
   "metadata": {},
   "source": [
    "It also uses the CMS public dataset. Use the following to create an iterator over the data (and refresh it if you use up all the events). You will need a network connection."
   ]
  },
  {
   "cell_type": "code",
   "execution_count": 1,
   "metadata": {
    "collapsed": true
   },
   "outputs": [],
   "source": [
    "from histogrammar.tutorial import cmsdata\n",
    "events = cmsdata.EventIterator()"
   ]
  },
  {
   "cell_type": "markdown",
   "metadata": {},
   "source": [
    "We also need basics: ROOT and histogrammar"
   ]
  },
  {
   "cell_type": "code",
   "execution_count": 2,
   "metadata": {
    "collapsed": false
   },
   "outputs": [
    {
     "data": {
      "application/javascript": [
       "\n",
       "require(['notebook'],\n",
       "  function() {\n",
       "    IPython.CodeCell.config_defaults.highlight_modes['magic_text/x-c++src'] = {'reg':[/^%%cpp/]};\n",
       "    console.log(\"JupyROOT - %%cpp magic configured\");\n",
       "  }\n",
       ");\n"
      ]
     },
     "metadata": {},
     "output_type": "display_data"
    },
    {
     "name": "stdout",
     "output_type": "stream",
     "text": [
      "Welcome to JupyROOT 6.07/07\n"
     ]
    }
   ],
   "source": [
    "import ROOT\n",
    "#%jsroot on \n",
    "import histogrammar"
   ]
  },
  {
   "cell_type": "markdown",
   "metadata": {},
   "source": [
    "pretty `%jsroot` disabled since I believe it doesn't support `root.TEfficiency` plots (`histogrammar.Fraction` plots that are shown below do not work)"
   ]
  },
  {
   "cell_type": "markdown",
   "metadata": {},
   "source": [
    "## First histogram\n",
    "Simple things first: you have some data in Python (events) and you want to see how they’re distributed. How do you do that in Histogrammar?\n",
    "\n",
    "Like this:"
   ]
  },
  {
   "cell_type": "code",
   "execution_count": 3,
   "metadata": {
    "collapsed": false
   },
   "outputs": [],
   "source": [
    "histogram = histogrammar.Bin(100, 0, 100, lambda event: event.met.pt)\n",
    "\n",
    "for i, event in enumerate(events):\n",
    "    if i == 1000: break\n",
    "    histogram.fill(event)"
   ]
  },
  {
   "cell_type": "markdown",
   "metadata": {},
   "source": [
    "Now we can plot this histogram with pyROOT"
   ]
  },
  {
   "cell_type": "code",
   "execution_count": 4,
   "metadata": {
    "collapsed": false
   },
   "outputs": [
    {
     "data": {
      "image/png": "[encoded data removed]",
      "text/plain": [
       "<IPython.core.display.Image object>"
      ]
     },
     "metadata": {},
     "output_type": "display_data"
    }
   ],
   "source": [
    "c1 = ROOT.TCanvas()\n",
    "roothist = histogram.plot.root(\"name\", \"title\")\n",
    "roothist.Draw()\n",
    "c1.Draw()"
   ]
  },
  {
   "cell_type": "markdown",
   "metadata": {},
   "source": [
    "## What just happened?\n",
    "\n",
    "The first line,\n",
    "\n",
    "```python\n",
    "from histogrammar import *\n",
    "```\n",
    "\n",
    "imports the basic functions and classes you need to define plots. The next gets to the heart of what Histogrammar is all about. It defines an empty histogram:\n",
    "```python\n",
    "histogram = Bin(100, 0, 100, lambda event: event.met.pt)\n",
    "```\n",
    "As a ROOT user, you are no doubt familiar with the concept of a histogram as an empty container that must be filled to be meaningful. However, the fill rule lambda event: event.met.pt may be unexpected.\n",
    "\n",
    "In a ROOT typical script, you would declare (“book”) a suite of empty histograms in an initialization stage and then fill them in a loop over a zillion events. The physics-specific logic of what to put in each histogram can end up being far from the booking code.\n",
    "\n",
    "In Histogrammar, the rule for how to fill the histogram is provided in the constructor, so that the loop can be automated with no input from the data analyst. Although this is useful in itself for maintainability (it’s easier to spot incongruities between the binning and the fill rule when they’re right next to each other), it is also important for frameworks like Apache PySpark that distribute the fill operation. Without consolidating the fill logic like this, a PySpark aggregate call would be very difficult to maintain.\n",
    "\n",
    "Finally, the last line\n",
    "```python\n",
    "roothist = histogram.plot.root(\"name\", \"title\")\n",
    "```\n",
    "creates a ROOT object from the Histogrammar object. In this case, it is a ROOT.TH1D, but the exact choice depends on what kind of Histogrammar object you’re converting.\n",
    "\n",
    "You can style and manipulate this ROOT object as you ordinarily would, using ROOT functions. The intention of Histogrammar is not to replace ROOT or any other plotting framework, but to provide an alternate means of aggregation that cuts across frameworks and encourages sharing of data, using each tool for what it does best.\n",
    "Composability"
   ]
  },
  {
   "cell_type": "markdown",
   "metadata": {},
   "source": [
    "## Composability\n",
    "\n",
    "In the above, it might seem that Bin is Histogrammar’s word for “histogram,” but it is more general than that. The Bin constructor has several arguments with default values:\n",
    "\n",
    "* **value:** how to fill a bin between the low and high edges;\n",
    "* **underflow:** what to do with data below the low edge;\n",
    "* **overflow:** what to do with data above the high edge;\n",
    "* **nanflow:** what to do with data that is not a number (NaN).\n",
    "\n",
    "ROOT would fill the value of each bin, as well as the underflow and overflow, with a count of entries. (Histogrammar additionally has a “nanflow” so that every input value fills some bin.) This is the most common case, so Histogrammar has Count() as default values for these arguments.\n",
    "\n",
    "Here, the similarity ends. Histogrammar’s Count is an aggregator of the same sort as Bin, and they can be used interchangeably. You could have counted the data instead of binning it:"
   ]
  },
  {
   "cell_type": "code",
   "execution_count": 5,
   "metadata": {
    "collapsed": false
   },
   "outputs": [
    {
     "name": "stdout",
     "output_type": "stream",
     "text": [
      "<Count 1000.0>\n"
     ]
    }
   ],
   "source": [
    "count = histogrammar.Count()\n",
    "\n",
    "for i, event in enumerate(events):\n",
    "    if i == 1000: break\n",
    "    count.fill(event)\n",
    "\n",
    "print(count)"
   ]
  },
  {
   "cell_type": "markdown",
   "metadata": {},
   "source": [
    "produces `<Count 1000.0>`, though this is only useful if you didn’t already know how many elements you were looping over.\n",
    "\n",
    "Let’s try something more interesting: put a Bin of Count inside of a Bin."
   ]
  },
  {
   "cell_type": "code",
   "execution_count": 6,
   "metadata": {
    "collapsed": false
   },
   "outputs": [
    {
     "data": {
      "image/png": "[encoded data removed]",
      "text/plain": [
       "<IPython.core.display.Image object>"
      ]
     },
     "metadata": {},
     "output_type": "display_data"
    }
   ],
   "source": [
    "hist2d = histogrammar.Bin(10, -100, 100, lambda event: event.met.px,\n",
    "             value = histogrammar.Bin(10, -100, 100, lambda event: event.met.py))\n",
    "\n",
    "for i, event in enumerate(events):\n",
    "    if i == 1000: break\n",
    "    hist2d.fill(event)\n",
    "\n",
    "roothist = hist2d.plot.root(\"name2\", \"title\")\n",
    "roothist.Draw(\"colz\")\n",
    "c1.Draw()"
   ]
  },
  {
   "cell_type": "markdown",
   "metadata": {},
   "source": [
    "## 3D histograms\n",
    "\n",
    "Histogrammar does not have a known conversion from Bin of Bin of Bin of Count to a corresponding ROOT object. The types of histograms you can build with Histogrammar is literally infinite, but there is a finite set of patterns mapping Histogrammar objects onto objects in a given plotting library. The Histogrammar-ROOT front-end may someday handle three-dimensional histograms, but as of version 0.7 it does not.\n",
    "\n",
    "Nevertheless, the aggregated data is available inside hist3d. Explore it with Python’s dir() or tab-completion and come up with creative ways to visualize it."
   ]
  },
  {
   "cell_type": "code",
   "execution_count": 7,
   "metadata": {
    "collapsed": false
   },
   "outputs": [],
   "source": [
    "hist3d = histogrammar.Bin(10, -100, 100, lambda muon: muon.px,\n",
    "             histogrammar.Bin(10, -100, 100, lambda muon: muon.py,\n",
    "                 histogrammar.Bin(10, -100, 100, lambda muon: muon.pz)))\n",
    "\n",
    "for i, event in enumerate(events):\n",
    "    if i == 1000: break\n",
    "    for muon in event.muons:\n",
    "        hist3d.fill(muon)"
   ]
  },
  {
   "cell_type": "code",
   "execution_count": 8,
   "metadata": {
    "collapsed": false
   },
   "outputs": [
    {
     "name": "stderr",
     "output_type": "stream",
     "text": [
      "Info in <TCanvas::Print>: png file ./Outputs/slice_0.png has been created\n",
      "Info in <TCanvas::Print>: png file ./Outputs/slice_1.png has been created\n",
      "Info in <TCanvas::Print>: png file ./Outputs/slice_2.png has been created\n",
      "Info in <TCanvas::Print>: png file ./Outputs/slice_3.png has been created\n",
      "Info in <TCanvas::Print>: png file ./Outputs/slice_4.png has been created\n",
      "Info in <TCanvas::Print>: png file ./Outputs/slice_5.png has been created\n",
      "Info in <TCanvas::Print>: png file ./Outputs/slice_6.png has been created\n",
      "Info in <TCanvas::Print>: png file ./Outputs/slice_7.png has been created\n",
      "Info in <TCanvas::Print>: png file ./Outputs/slice_8.png has been created\n",
      "Info in <TCanvas::Print>: png file ./Outputs/slice_9.png has been created\n"
     ]
    }
   ],
   "source": [
    "import imageio\n",
    "images = []\n",
    "    \n",
    "for i, x in enumerate(hist3d.values):\n",
    "    low, high = hist3d.range(i)\n",
    "    roothist = x.plot.root(\"slice {}\".format(i), \"{} <= px < {}\".format(low, high))\n",
    "    roothist.Draw(\"colz\")\n",
    "    ROOT.gPad.SaveAs(\"./Outputs/slice_{}.png\".format(i))\n",
    "    images.append(imageio.imread(\"./Outputs/slice_{}.png\".format(i)))\n",
    "imageio.mimsave('./Outputs/hist3d.gif', images, fps=5)"
   ]
  },
  {
   "cell_type": "markdown",
   "metadata": {},
   "source": [
    "![imageio gif](./Outputs/hist3d.gif \"be there in a giffy\")"
   ]
  },
  {
   "cell_type": "markdown",
   "metadata": {},
   "source": [
    "This could be improved with better binning, better ROOT styling (such as a fixed colz scale), and animated GIF conversion (pause before repeating), but you get the idea."
   ]
  },
  {
   "cell_type": "markdown",
   "metadata": {},
   "source": [
    "## Visual tour of Histogrammar primitives\n",
    "\n",
    "We managed to produce three different visualizations with only `Count` and `Bin`, but there are two dozen different kinds of primitives to work with. Let’s try a few more.\n",
    "\n",
    "`Average` is a drop-in replacement for `Count` that averages a quantity instead of counting entries."
   ]
  },
  {
   "cell_type": "code",
   "execution_count": 9,
   "metadata": {
    "collapsed": false
   },
   "outputs": [
    {
     "name": "stdout",
     "output_type": "stream",
     "text": [
      "<Average mean=25.0640973929>\n"
     ]
    }
   ],
   "source": [
    "average = histogrammar.Average(lambda event: event.met.pt)\n",
    "\n",
    "for i, event in enumerate(events):\n",
    "    if i == 1000: break\n",
    "    average.fill(event)\n",
    "\n",
    "print(average)"
   ]
  },
  {
   "cell_type": "markdown",
   "metadata": {},
   "source": [
    "If we bin it, we approximate a two-dimensional distribution as a function."
   ]
  },
  {
   "cell_type": "code",
   "execution_count": 10,
   "metadata": {
    "collapsed": false
   },
   "outputs": [
    {
     "data": {
      "image/png": "[encoded data removed]",
      "text/plain": [
       "<IPython.core.display.Image object>"
      ]
     },
     "metadata": {},
     "output_type": "display_data"
    }
   ],
   "source": [
    "pt_vs_vertices = histogrammar.Bin(20, 0.5, 20.5, lambda event: event.numPrimaryVertices,\n",
    "                     histogrammar.Average(lambda event: event.met.pt))\n",
    "\n",
    "events = cmsdata.EventIterator()\n",
    "for i, event in enumerate(events):\n",
    "    if i == 10000: break\n",
    "    pt_vs_vertices.fill(event)\n",
    "\n",
    "roothist = pt_vs_vertices.plot.root(\"name4\")\n",
    "roothist.GetXaxis().SetTitle(\"number of primary vertices\")\n",
    "roothist.GetYaxis().SetTitle(\"average MET pT\")\n",
    "roothist.Draw()\n",
    "c1.Draw()"
   ]
  },
  {
   "cell_type": "markdown",
   "metadata": {},
   "source": [
    "This is a profile plot (`roothist` is literally a `ROOT.TProfile`), which should be familiar to ROOT users. Profile plots usually have error bars, but the required information to make the error bar (variance in each bin) is not available because we only accumulated the averages.\n",
    "\n",
    "A primitive called `Deviate` accumulates mean and variance:"
   ]
  },
  {
   "cell_type": "code",
   "execution_count": 11,
   "metadata": {
    "collapsed": false
   },
   "outputs": [
    {
     "name": "stdout",
     "output_type": "stream",
     "text": [
      "<Deviate mean=24.5114851815 variance=279.49272031>\n"
     ]
    }
   ],
   "source": [
    "deviate = histogrammar.Deviate(lambda event: event.met.pt)\n",
    "\n",
    "for i, event in enumerate(events):\n",
    "    if i == 1000: break\n",
    "    deviate.fill(event)\n",
    "\n",
    "print(deviate)"
   ]
  },
  {
   "cell_type": "markdown",
   "metadata": {},
   "source": [
    "Why the weird name? Every primitive in Histogrammar is a verb, and “variance” and “standard deviation” are nouns. Type-safe versions of Histogrammar— which does not include Python— use verb tenses to specify which stage of development the primitive is in. Python just uses duck typing.)\n",
    "\n",
    "All we have to do to get error bars is to swap `Average` for `Deviate`."
   ]
  },
  {
   "cell_type": "code",
   "execution_count": 12,
   "metadata": {
    "collapsed": false
   },
   "outputs": [
    {
     "data": {
      "image/png": "[encoded data removed]",
      "text/plain": [
       "<IPython.core.display.Image object>"
      ]
     },
     "metadata": {},
     "output_type": "display_data"
    }
   ],
   "source": [
    "pt_vs_vertices = histogrammar.Bin(20, 0.5, 20.5, lambda event: event.numPrimaryVertices,\n",
    "                     histogrammar.Deviate(lambda event: event.met.pt))\n",
    "\n",
    "events = cmsdata.EventIterator()\n",
    "for i, event in enumerate(events):\n",
    "    if i == 10000: break\n",
    "    pt_vs_vertices.fill(event)\n",
    "\n",
    "roothist = pt_vs_vertices.plot.root(\"name5\")\n",
    "roothist.GetXaxis().SetTitle(\"number of primary vertices\")\n",
    "roothist.GetYaxis().SetTitle(\"average MET pT\")\n",
    "roothist.Draw()\n",
    "c1.Draw()"
   ]
  },
  {
   "cell_type": "markdown",
   "metadata": {},
   "source": [
    "It may be useful to know that every primitive has an `entries` (number of entries) field, and `Count` is nothing but a number of entries. Therefore, anything based on `Bin` can be turned into a simple histogram *without re-filling*."
   ]
  },
  {
   "cell_type": "code",
   "execution_count": 13,
   "metadata": {
    "collapsed": false
   },
   "outputs": [
    {
     "data": {
      "image/png": "[encoded data removed]",
      "text/plain": [
       "<IPython.core.display.Image object>"
      ]
     },
     "metadata": {},
     "output_type": "display_data"
    }
   ],
   "source": [
    "roothist2 = pt_vs_vertices.histogram().plot.root(\"name6\")\n",
    "roothist2.Draw()\n",
    "c1.Draw()"
   ]
  },
  {
   "cell_type": "markdown",
   "metadata": {},
   "source": [
    "This can help you answer questions about your plots using data that you already have on-hand.\n",
    "\n",
    "##Alternate binning methods\n",
    "\n",
    "`Count`, `Average`, and `Deviate` differ from `Bin` in one important aspect: they aggregate data, but do not pass it on to a sub-aggregator. If you compose aggregators into a tree, `Count`, `Average`, and `Deviate` will always be leaves and `Bin` will always be an internal node. This distinction is made in the [specification](http://histogrammar.org/docs/specification/1.0/) as primitives of “the first kind,” “the second kind,” etc. (The allusion to alien encounters is intentional.)\n",
    "\n",
    "Peruse the specification to see what other “first kind” primitives you can make and think about how you’d be able to use things like quantiles and min/max per bin in an analysis. In this tutorial, we move on to alternate binning methods.\n",
    "\n",
    "Standard binning slices a numeric interval into equal-length subintervals. The aggregator must do something with values that fall below (underflow) or above (overflow) the interval, and the data analyst has to guess an appropriate interval. It’s not uncommon to make a histogram of, say, momentum, only to discover that the tail reaches higher than you expected (cutting it off) or lower than you expected (compressing the meaningful information into one or two bins). You then have to re-fill the histogram, which is aggregating when it happens frequently or takes a long time to fill.\n",
    "\n",
    "If we replace the “dense vector” of a standard histogram with a “sparse vector,” in which only non-zero values are filled, then there is no need to specify a minimum and maximum bin before filling. Consider the following:"
   ]
  },
  {
   "cell_type": "code",
   "execution_count": 14,
   "metadata": {
    "collapsed": false
   },
   "outputs": [
    {
     "data": {
      "image/png": "[encoded data removed]",
      "text/plain": [
       "<IPython.core.display.Image object>"
      ]
     },
     "metadata": {},
     "output_type": "display_data"
    }
   ],
   "source": [
    "histogram = histogrammar.SparselyBin(1.0, lambda event: event.met.pt)\n",
    "\n",
    "events = cmsdata.EventIterator()\n",
    "for i, event in enumerate(events):\n",
    "    if i == 1000: break\n",
    "    histogram.fill(event)\n",
    "\n",
    "roothist = histogram.plot.root(\"name7\", \"title\")\n",
    "roothist.Draw()\n",
    "c1.Draw()"
   ]
  },
  {
   "cell_type": "markdown",
   "metadata": {},
   "source": [
    "This histogram was created with no prior knowledge that the minimum event.met.pt would be 0 and the maximum would be 93. Only the bin width (the first argument, 1.0 momentum units per bin) had to be specified.\n",
    "\n",
    "To see how this histogram differs, print the bins:"
   ]
  },
  {
   "cell_type": "code",
   "execution_count": 15,
   "metadata": {
    "collapsed": false
   },
   "outputs": [
    {
     "name": "stdout",
     "output_type": "stream",
     "text": [
      "{1: <Count 4.0>, 2: <Count 5.0>, 3: <Count 10.0>, 4: <Count 23.0>, 5: <Count 17.0>, 6: <Count 21.0>, 7: <Count 21.0>, 8: <Count 17.0>, 9: <Count 34.0>, 10: <Count 26.0>, 11: <Count 22.0>, 12: <Count 24.0>, 13: <Count 32.0>, 14: <Count 25.0>, 15: <Count 26.0>, 16: <Count 22.0>, 17: <Count 29.0>, 18: <Count 23.0>, 19: <Count 27.0>, 20: <Count 25.0>, 21: <Count 22.0>, 22: <Count 24.0>, 23: <Count 24.0>, 24: <Count 19.0>, 25: <Count 23.0>, 26: <Count 17.0>, 27: <Count 17.0>, 28: <Count 20.0>, 29: <Count 24.0>, 30: <Count 18.0>, 31: <Count 9.0>, 32: <Count 13.0>, 33: <Count 25.0>, 34: <Count 17.0>, 35: <Count 19.0>, 36: <Count 18.0>, 37: <Count 17.0>, 38: <Count 15.0>, 39: <Count 9.0>, 40: <Count 16.0>, 41: <Count 17.0>, 42: <Count 19.0>, 43: <Count 15.0>, 44: <Count 17.0>, 45: <Count 16.0>, 46: <Count 8.0>, 47: <Count 9.0>, 48: <Count 8.0>, 49: <Count 5.0>, 50: <Count 9.0>, 51: <Count 4.0>, 52: <Count 10.0>, 53: <Count 9.0>, 54: <Count 2.0>, 55: <Count 3.0>, 56: <Count 4.0>, 57: <Count 7.0>, 58: <Count 1.0>, 59: <Count 2.0>, 60: <Count 3.0>, 61: <Count 5.0>, 62: <Count 2.0>, 64: <Count 1.0>, 65: <Count 4.0>, 66: <Count 3.0>, 67: <Count 1.0>, 68: <Count 4.0>, 69: <Count 1.0>, 70: <Count 1.0>, 72: <Count 1.0>, 73: <Count 1.0>, 74: <Count 1.0>, 75: <Count 2.0>, 76: <Count 1.0>, 77: <Count 1.0>, 78: <Count 1.0>, 79: <Count 1.0>, 82: <Count 1.0>, 92: <Count 1.0>}\n"
     ]
    }
   ],
   "source": [
    "print(histogram.bins)"
   ]
  },
  {
   "cell_type": "markdown",
   "metadata": {},
   "source": [
    "It’s a Python dictionary, mapping non-empty bin indexes to Count objects. As new values are encountered, new bins are created, as well as a potentially new minimum and maximum."
   ]
  },
  {
   "cell_type": "code",
   "execution_count": 16,
   "metadata": {
    "collapsed": false
   },
   "outputs": [
    {
     "name": "stdout",
     "output_type": "stream",
     "text": [
      "(79, 1.0, 93.0, 1, 92)\n"
     ]
    }
   ],
   "source": [
    "print(len(histogram.bins), histogram.low, histogram.high, histogram.minBin, histogram.maxBin)"
   ]
  },
  {
   "cell_type": "code",
   "execution_count": 17,
   "metadata": {
    "collapsed": false
   },
   "outputs": [
    {
     "name": "stdout",
     "output_type": "stream",
     "text": [
      "(86, 0.0, 99.0, 0, 98)\n"
     ]
    }
   ],
   "source": [
    "for i, event in enumerate(events):\n",
    "    if i == 1000: break\n",
    "    histogram.fill(event)\n",
    "\n",
    "print(len(histogram.bins), histogram.low, histogram.high, histogram.minBin, histogram.maxBin)"
   ]
  },
  {
   "cell_type": "markdown",
   "metadata": {},
   "source": [
    "Keep in mind that the memory use of a `Bin` is fixed, but a `SparselyBin` can grow without bound, depending on the distribution of the data. In particular, a distribution with a long tail might create a new bin for every tail event. Another concern is in converting a sparse histogram with far-flung values (such as `1e9` to represent “missing data”) into a dense histogram: all the intermediate bins would be created with zero value.\n",
    "\n",
    "These are usually not issues in exploratory data analysis, where sparse histograms are the most useful. Just be sure to check `histogram.minBin` and `histogram.maxBin` before attempting to plot it and replace `SparselyBin` with `Bin` and well-chosen `low` and `high` values in the final analysis.\n",
    "\n",
    "That said, `SparselyBin` can be composed with any sub-aggregators to make sparse profile plots:"
   ]
  },
  {
   "cell_type": "code",
   "execution_count": 18,
   "metadata": {
    "collapsed": false
   },
   "outputs": [
    {
     "data": {
      "image/png": "[encoded data removed]",
      "text/plain": [
       "<IPython.core.display.Image object>"
      ]
     },
     "metadata": {},
     "output_type": "display_data"
    }
   ],
   "source": [
    "pt_vs_vertices = histogrammar.SparselyBin(1.0, lambda event: event.numPrimaryVertices,\n",
    "                             histogrammar.Deviate(lambda event: event.met.pt))\n",
    "\n",
    "events = cmsdata.EventIterator()\n",
    "for i, event in enumerate(events):\n",
    "    if i == 10000: break\n",
    "    pt_vs_vertices.fill(event)\n",
    "\n",
    "roothist = pt_vs_vertices.plot.root(\"name8\")\n",
    "roothist.GetXaxis().SetTitle(\"number of primary vertices\")\n",
    "roothist.GetYaxis().SetTitle(\"average MET pT\")\n",
    "roothist.Draw()\n",
    "c1.Draw()"
   ]
  },
  {
   "cell_type": "markdown",
   "metadata": {},
   "source": [
    "sparse two-dimensional histograms:"
   ]
  },
  {
   "cell_type": "code",
   "execution_count": 19,
   "metadata": {
    "collapsed": false
   },
   "outputs": [
    {
     "data": {
      "image/png": "[encoded data removed]",
      "text/plain": [
       "<IPython.core.display.Image object>"
      ]
     },
     "metadata": {},
     "output_type": "display_data"
    }
   ],
   "source": [
    "hist2d = histogrammar.SparselyBin(5.0, lambda event: event.met.px,\n",
    "                     histogrammar.SparselyBin(5.0, lambda event: event.met.py))\n",
    "\n",
    "events = cmsdata.EventIterator()\n",
    "for i, event in enumerate(events):\n",
    "    if i == 1000: break\n",
    "    hist2d.fill(event)\n",
    "\n",
    "roothist = hist2d.plot.root(\"name9\", \"title\")\n",
    "roothist.Draw(\"colz\")\n",
    "c1.Draw()"
   ]
  },
  {
   "cell_type": "markdown",
   "metadata": {},
   "source": [
    "and so on.\n",
    "\n",
    "Notice that this last example has negative indexes (print hist2d.bins.keys()) and a SparselyBin nested within a SparselyBin.\n",
    "\n",
    "Histogrammar has a few other binning methods:\n",
    "\n",
    "* **`CentrallyBin`**: a fixed set of irregularly spaced bins, defined by *bin centers*. Specifying the irregularly spaced bins by their centers has two nice features: no gaps and no underflow/overflow. It has an analogy with one-dimensional clustering. As of Histogrammar version 0.7, an automated translation to ROOT has not been defined.\n",
    "* **`IrregularlyBin`**: could be used for irregularly spaced bins defined by *bin edges*, though it was intended for groups of plots with different cuts (such as a series of different pseudorapidity cuts or heavy ion centrality bins).\n",
    "* **`Categorize`**: like `SparselyBin`, but with string-valued categories, rather than numbers. A histogram over a categorical domain is also known as a “bar chart.” There’s a certain program that excels at these.\n",
    "\n",
    "All of these are aggregators “of the second kind” in the [specification](http://histogrammar.org/docs/specification/1.0/).\n",
    "\n",
    "## Structures made of histograms\n",
    "\n",
    "If “first kind” primitives like `Count`, `Average`, and `Deviate` are like stars and binning methods like `Bin`, `SparselyBin`, and `Categorize` are like stellar clusters, there are yet larger structures like galaxies and galactic clusters. Some of the things we do in an analysis involve a coordinated use of multiple histograms.\n",
    "\n",
    "One of the most common is an efficiency plot: the probability of passing a cut as a function of some binned variable. You could make this by filling two histograms, one with the cut, the other without, and then dividing them, but Histogrammar has a built-in primitive:"
   ]
  },
  {
   "cell_type": "code",
   "execution_count": 20,
   "metadata": {
    "collapsed": false
   },
   "outputs": [
    {
     "data": {
      "image/png": "[encoded data removed]",
      "text/plain": [
       "<IPython.core.display.Image object>"
      ]
     },
     "metadata": {},
     "output_type": "display_data"
    }
   ],
   "source": [
    "c1 = ROOT.TCanvas()\n",
    "frac = histogrammar.Fraction(lambda event: event.numPrimaryVertices > 5,\n",
    "                histogrammar.Bin(30, 0, 100, lambda event: event.met.pt))\n",
    "\n",
    "events = cmsdata.EventIterator()\n",
    "for i, event in enumerate(events):\n",
    "    if i == 10000: break\n",
    "    frac.fill(event)\n",
    "\n",
    "roothist = frac.plot.root(\"name10\", \"title\")\n",
    "roothist.SetTitle(\";MET pT ;fraction with number of primary vertices > 5\")\n",
    "roothist.Draw()\n",
    "c1.Draw()"
   ]
  },
  {
   "cell_type": "markdown",
   "metadata": {},
   "source": [
    "Note that the ROOT object returned by `frac.plot.root` is a `ROOT.TEfficiency`. This lets you choose different statistics for the error bars, which is not Histogrammar’s job, but ROOT’s.\n",
    "\n",
    "There’s nothing stopping you from making an efficiency plot from a sparsely binned histogram. Histogrammar ensures that the numerator and denominator have the same binning."
   ]
  },
  {
   "cell_type": "code",
   "execution_count": 21,
   "metadata": {
    "collapsed": false
   },
   "outputs": [
    {
     "data": {
      "image/png": "[encoded data removed]",
      "text/plain": [
       "<IPython.core.display.Image object>"
      ]
     },
     "metadata": {},
     "output_type": "display_data"
    }
   ],
   "source": [
    "frac = histogrammar.Fraction(lambda event: event.numPrimaryVertices > 5,\n",
    "                histogrammar.SparselyBin(5.0, lambda event: event.met.pt))\n",
    "\n",
    "for i, event in enumerate(events):\n",
    "    if i == 10000: break\n",
    "    frac.fill(event)\n",
    "\n",
    "roothist = frac.plot.root(\"name11\", \"title\")\n",
    "roothist.SetTitle(\";MET pT;fraction with number of primary vertices > 5\")\n",
    "roothist.Draw()\n",
    "c1.Draw()"
   ]
  },
  {
   "cell_type": "markdown",
   "metadata": {},
   "source": [
    "In fact, you could compute the fraction of anything, even a simple count."
   ]
  },
  {
   "cell_type": "code",
   "execution_count": 22,
   "metadata": {
    "collapsed": false
   },
   "outputs": [
    {
     "name": "stdout",
     "output_type": "stream",
     "text": [
      "0.37\n"
     ]
    }
   ],
   "source": [
    "frac = histogrammar.Fraction(lambda event: event.numPrimaryVertices > 5, histogrammar.Count())\n",
    "\n",
    "for i, event in enumerate(events):\n",
    "    if i == 100: break\n",
    "    frac.fill(event)\n",
    "\n",
    "print(frac.numerator.entries / frac.denominator.entries)"
   ]
  },
  {
   "cell_type": "markdown",
   "metadata": {},
   "source": [
    "Another of these superstructures is a suite of stacked or overlaid histograms. The `Stack` and `IrregularlyBin` primitives can both be thought of as extensions of `Fraction`. Whereas `Fraction` fills two sub-aggregators, one if a selection is satisfied and the other regardless, `Stack` fills *N + 1* sub-aggregators, each with the events that pass *N* successively tighter cuts."
   ]
  },
  {
   "cell_type": "code",
   "execution_count": 23,
   "metadata": {
    "collapsed": false
   },
   "outputs": [
    {
     "ename": "AttributeError",
     "evalue": "'StackedHistogramMethods' object has no attribute 'cuts'",
     "output_type": "error",
     "traceback": [
      "\u001b[0;31m\u001b[0m",
      "\u001b[0;31mAttributeError\u001b[0mTraceback (most recent call last)",
      "\u001b[0;32m<ipython-input-23-bc2e1823d27d>\u001b[0m in \u001b[0;36m<module>\u001b[0;34m()\u001b[0m\n\u001b[1;32m      6\u001b[0m     \u001b[0mstack\u001b[0m\u001b[0;34m.\u001b[0m\u001b[0mfill\u001b[0m\u001b[0;34m(\u001b[0m\u001b[0mevent\u001b[0m\u001b[0;34m)\u001b[0m\u001b[0;34m\u001b[0m\u001b[0m\n\u001b[1;32m      7\u001b[0m \u001b[0;34m\u001b[0m\u001b[0m\n\u001b[0;32m----> 8\u001b[0;31m \u001b[0mroothist\u001b[0m \u001b[0;34m=\u001b[0m \u001b[0mstack\u001b[0m\u001b[0;34m.\u001b[0m\u001b[0mplot\u001b[0m\u001b[0;34m.\u001b[0m\u001b[0mroot\u001b[0m\u001b[0;34m(\u001b[0m\u001b[0;34m\"name12\"\u001b[0m\u001b[0;34m,\u001b[0m \u001b[0;34m\"name13\"\u001b[0m\u001b[0;34m,\u001b[0m \u001b[0;34m\"name14\"\u001b[0m\u001b[0;34m,\u001b[0m \u001b[0;34m\"name15\"\u001b[0m\u001b[0;34m,\u001b[0m \u001b[0;34m\"name16\"\u001b[0m\u001b[0;34m)\u001b[0m\u001b[0;34m\u001b[0m\u001b[0m\n\u001b[0m\u001b[1;32m      9\u001b[0m \u001b[0;32mfor\u001b[0m \u001b[0mi\u001b[0m\u001b[0;34m,\u001b[0m \u001b[0mh\u001b[0m \u001b[0;32min\u001b[0m \u001b[0menumerate\u001b[0m\u001b[0;34m(\u001b[0m\u001b[0mroothist\u001b[0m\u001b[0;34m.\u001b[0m\u001b[0mvalues\u001b[0m\u001b[0;34m(\u001b[0m\u001b[0;34m)\u001b[0m\u001b[0;34m)\u001b[0m\u001b[0;34m:\u001b[0m\u001b[0;34m\u001b[0m\u001b[0m\n\u001b[1;32m     10\u001b[0m     \u001b[0mh\u001b[0m\u001b[0;34m.\u001b[0m\u001b[0mSetFillColor\u001b[0m\u001b[0;34m(\u001b[0m\u001b[0mi\u001b[0m \u001b[0;34m+\u001b[0m \u001b[0;36m2\u001b[0m\u001b[0;34m)\u001b[0m\u001b[0;34m\u001b[0m\u001b[0m\n",
      "\u001b[0;32m/eos/user/v/vcroft/.local/lib/python2.7/site-packages/histogrammar/plot/root.pyc\u001b[0m in \u001b[0;36mplotroot\u001b[0;34m(self, *names)\u001b[0m\n\u001b[1;32m    190\u001b[0m         \u001b[0;32mimport\u001b[0m \u001b[0mROOT\u001b[0m\u001b[0;34m\u001b[0m\u001b[0m\n\u001b[1;32m    191\u001b[0m         \u001b[0mout\u001b[0m \u001b[0;34m=\u001b[0m \u001b[0mOrderedDict\u001b[0m\u001b[0;34m(\u001b[0m\u001b[0;34m)\u001b[0m\u001b[0;34m\u001b[0m\u001b[0m\n\u001b[0;32m--> 192\u001b[0;31m         \u001b[0;32mfor\u001b[0m \u001b[0mn\u001b[0m\u001b[0;34m,\u001b[0m \u001b[0;34m(\u001b[0m\u001b[0mc\u001b[0m\u001b[0;34m,\u001b[0m \u001b[0mv\u001b[0m\u001b[0;34m)\u001b[0m \u001b[0;32min\u001b[0m \u001b[0mzip\u001b[0m\u001b[0;34m(\u001b[0m\u001b[0mnames\u001b[0m\u001b[0;34m,\u001b[0m \u001b[0mself\u001b[0m\u001b[0;34m.\u001b[0m\u001b[0mcuts\u001b[0m\u001b[0;34m)\u001b[0m\u001b[0;34m:\u001b[0m\u001b[0;34m\u001b[0m\u001b[0m\n\u001b[0m\u001b[1;32m    193\u001b[0m             \u001b[0;32mif\u001b[0m \u001b[0misinstance\u001b[0m\u001b[0;34m(\u001b[0m\u001b[0mn\u001b[0m\u001b[0;34m,\u001b[0m \u001b[0;34m(\u001b[0m\u001b[0mlist\u001b[0m\u001b[0;34m,\u001b[0m \u001b[0mtuple\u001b[0m\u001b[0;34m)\u001b[0m\u001b[0;34m)\u001b[0m \u001b[0;32mand\u001b[0m \u001b[0mlen\u001b[0m\u001b[0;34m(\u001b[0m\u001b[0mn\u001b[0m\u001b[0;34m)\u001b[0m \u001b[0;34m==\u001b[0m \u001b[0;36m2\u001b[0m\u001b[0;34m:\u001b[0m\u001b[0;34m\u001b[0m\u001b[0m\n\u001b[1;32m    194\u001b[0m                 \u001b[0mname\u001b[0m\u001b[0;34m,\u001b[0m \u001b[0mtitle\u001b[0m \u001b[0;34m=\u001b[0m \u001b[0mn\u001b[0m\u001b[0;34m\u001b[0m\u001b[0m\n",
      "\u001b[0;31mAttributeError\u001b[0m: 'StackedHistogramMethods' object has no attribute 'cuts'"
     ]
    }
   ],
   "source": [
    "stack = histogrammar.Stack([5, 10, 15, 20], lambda event: event.numPrimaryVertices,\n",
    "              histogrammar.Bin(100, 0, 100, lambda event: event.met.pt))\n",
    "\n",
    "for i, event in enumerate(events):\n",
    "    if i == 1000: break\n",
    "    stack.fill(event)\n",
    "\n",
    "roothist = stack.plot.root(\"name12\", \"name13\", \"name14\", \"name15\", \"name16\")\n",
    "for i, h in enumerate(roothist.values()):\n",
    "    h.SetFillColor(i + 2)\n",
    "\n",
    "roothist.Draw()\n",
    "c1.Draw()"
   ]
  },
  {
   "cell_type": "markdown",
   "metadata": {},
   "source": [
    "The `stack.plot.root` call has to give names to each of the histograms (consider using Python’s `*args` syntax if you want to dynamically generates a list `args`) and it returns a Python `OrderedDict` of `ROOT.TH1D`. They keys of this dictionary are the cut thresholds and you can iterate over the values (as above) to give them styles.\n",
    "\n",
    "The most common use of stacked histograms in high energy physics doesn’t fit the case above: usually, a stack shows data drawn from different sources. This illustrates a limitation in Histogrammar’s scope: all aggregators, no matter how complex with nested primitives, are filled with data from one data source. The lambda functions in almost all of the examples above took `event` as their argument. If you want to collect data from multiple sources, you’ll have to do multiple aggregation “runs.”\n",
    "\n",
    "Suppose that we have two collections: muons and jets. (In a typical physics analysis, the datasets would all be events, drawn from different Monte Carlo generators.) For simplicity, we’ll make two lists from our `events` iterator:"
   ]
  },
  {
   "cell_type": "code",
   "execution_count": 24,
   "metadata": {
    "collapsed": true
   },
   "outputs": [],
   "source": [
    "muons = []\n",
    "for i, event in enumerate(cmsdata.EventIterator()):\n",
    "    if i == 1000: break\n",
    "    for muon in event.muons:\n",
    "        muons.append(muon)\n",
    "\n",
    "jets = []\n",
    "for i, event in enumerate(cmsdata.EventIterator()):\n",
    "    if i == 1000: break\n",
    "    for jet in event.jets:\n",
    "        jets.append(jet)"
   ]
  },
  {
   "cell_type": "markdown",
   "metadata": {},
   "source": [
    "And now we’ll make two sets of the same kind of histogram. Note that all Histogrammar aggregators have a copy() method to recursively copy the tree structure, making an identical but independent object, and a zero() method to do the same, but making an empty container, rather than an identical one."
   ]
  },
  {
   "cell_type": "code",
   "execution_count": 25,
   "metadata": {
    "collapsed": true
   },
   "outputs": [],
   "source": [
    "template = histogrammar.Bin(100, -100, 100, lambda particle: particle.px)\n",
    "muonsPlot = template.copy()\n",
    "jetsPlot = template.copy()\n",
    "\n",
    "for muon in muons:\n",
    "    muonsPlot.fill(muon)\n",
    "\n",
    "for jet in jets:\n",
    "    jetsPlot.fill(jet)"
   ]
  },
  {
   "cell_type": "markdown",
   "metadata": {},
   "source": [
    "The `Stack` primitive has a special constructor for taking histograms from different sources: if they’re not compatible (different bins), it will raise an exception."
   ]
  },
  {
   "cell_type": "code",
   "execution_count": 27,
   "metadata": {
    "collapsed": false
   },
   "outputs": [
    {
     "ename": "AttributeError",
     "evalue": "'StackedHistogramMethods' object has no attribute 'cuts'",
     "output_type": "error",
     "traceback": [
      "\u001b[0;31m\u001b[0m",
      "\u001b[0;31mAttributeError\u001b[0mTraceback (most recent call last)",
      "\u001b[0;32m<ipython-input-27-b104406525b1>\u001b[0m in \u001b[0;36m<module>\u001b[0;34m()\u001b[0m\n\u001b[1;32m      1\u001b[0m \u001b[0mstack\u001b[0m \u001b[0;34m=\u001b[0m \u001b[0mhistogrammar\u001b[0m\u001b[0;34m.\u001b[0m\u001b[0mStack\u001b[0m\u001b[0;34m.\u001b[0m\u001b[0mbuild\u001b[0m\u001b[0;34m(\u001b[0m\u001b[0mmuonsPlot\u001b[0m\u001b[0;34m,\u001b[0m \u001b[0mjetsPlot\u001b[0m\u001b[0;34m)\u001b[0m\u001b[0;34m\u001b[0m\u001b[0m\n\u001b[1;32m      2\u001b[0m \u001b[0;34m\u001b[0m\u001b[0m\n\u001b[0;32m----> 3\u001b[0;31m \u001b[0mroothist\u001b[0m \u001b[0;34m=\u001b[0m \u001b[0mstack\u001b[0m\u001b[0;34m.\u001b[0m\u001b[0mplot\u001b[0m\u001b[0;34m.\u001b[0m\u001b[0mroot\u001b[0m\u001b[0;34m(\u001b[0m\u001b[0;34m\"name17\"\u001b[0m\u001b[0;34m,\u001b[0m \u001b[0;34m\"name18\"\u001b[0m\u001b[0;34m)\u001b[0m\u001b[0;34m\u001b[0m\u001b[0m\n\u001b[0m\u001b[1;32m      4\u001b[0m \u001b[0;32mfor\u001b[0m \u001b[0mi\u001b[0m\u001b[0;34m,\u001b[0m \u001b[0mh\u001b[0m \u001b[0;32min\u001b[0m \u001b[0menumerate\u001b[0m\u001b[0;34m(\u001b[0m\u001b[0mroothist\u001b[0m\u001b[0;34m.\u001b[0m\u001b[0mvalues\u001b[0m\u001b[0;34m(\u001b[0m\u001b[0;34m)\u001b[0m\u001b[0;34m)\u001b[0m\u001b[0;34m:\u001b[0m\u001b[0;34m\u001b[0m\u001b[0m\n\u001b[1;32m      5\u001b[0m     \u001b[0mh\u001b[0m\u001b[0;34m.\u001b[0m\u001b[0mSetFillColor\u001b[0m\u001b[0;34m(\u001b[0m\u001b[0mi\u001b[0m \u001b[0;34m+\u001b[0m \u001b[0;36m2\u001b[0m\u001b[0;34m)\u001b[0m\u001b[0;34m\u001b[0m\u001b[0m\n",
      "\u001b[0;32m/eos/user/v/vcroft/.local/lib/python2.7/site-packages/histogrammar/plot/root.pyc\u001b[0m in \u001b[0;36mplotroot\u001b[0;34m(self, *names)\u001b[0m\n\u001b[1;32m    190\u001b[0m         \u001b[0;32mimport\u001b[0m \u001b[0mROOT\u001b[0m\u001b[0;34m\u001b[0m\u001b[0m\n\u001b[1;32m    191\u001b[0m         \u001b[0mout\u001b[0m \u001b[0;34m=\u001b[0m \u001b[0mOrderedDict\u001b[0m\u001b[0;34m(\u001b[0m\u001b[0;34m)\u001b[0m\u001b[0;34m\u001b[0m\u001b[0m\n\u001b[0;32m--> 192\u001b[0;31m         \u001b[0;32mfor\u001b[0m \u001b[0mn\u001b[0m\u001b[0;34m,\u001b[0m \u001b[0;34m(\u001b[0m\u001b[0mc\u001b[0m\u001b[0;34m,\u001b[0m \u001b[0mv\u001b[0m\u001b[0;34m)\u001b[0m \u001b[0;32min\u001b[0m \u001b[0mzip\u001b[0m\u001b[0;34m(\u001b[0m\u001b[0mnames\u001b[0m\u001b[0;34m,\u001b[0m \u001b[0mself\u001b[0m\u001b[0;34m.\u001b[0m\u001b[0mcuts\u001b[0m\u001b[0;34m)\u001b[0m\u001b[0;34m:\u001b[0m\u001b[0;34m\u001b[0m\u001b[0m\n\u001b[0m\u001b[1;32m    193\u001b[0m             \u001b[0;32mif\u001b[0m \u001b[0misinstance\u001b[0m\u001b[0;34m(\u001b[0m\u001b[0mn\u001b[0m\u001b[0;34m,\u001b[0m \u001b[0;34m(\u001b[0m\u001b[0mlist\u001b[0m\u001b[0;34m,\u001b[0m \u001b[0mtuple\u001b[0m\u001b[0;34m)\u001b[0m\u001b[0;34m)\u001b[0m \u001b[0;32mand\u001b[0m \u001b[0mlen\u001b[0m\u001b[0;34m(\u001b[0m\u001b[0mn\u001b[0m\u001b[0;34m)\u001b[0m \u001b[0;34m==\u001b[0m \u001b[0;36m2\u001b[0m\u001b[0;34m:\u001b[0m\u001b[0;34m\u001b[0m\u001b[0m\n\u001b[1;32m    194\u001b[0m                 \u001b[0mname\u001b[0m\u001b[0;34m,\u001b[0m \u001b[0mtitle\u001b[0m \u001b[0;34m=\u001b[0m \u001b[0mn\u001b[0m\u001b[0;34m\u001b[0m\u001b[0m\n",
      "\u001b[0;31mAttributeError\u001b[0m: 'StackedHistogramMethods' object has no attribute 'cuts'"
     ]
    }
   ],
   "source": [
    "stack = histogrammar.Stack.build(muonsPlot, jetsPlot)\n",
    "\n",
    "roothist = stack.plot.root(\"name17\", \"name18\")\n",
    "for i, h in enumerate(roothist.values()):\n",
    "    h.SetFillColor(i + 2)\n",
    "\n",
    "roothist.Draw()\n",
    "c1.Draw()"
   ]
  },
  {
   "cell_type": "markdown",
   "metadata": {},
   "source": [
    "The beauty of this is that you don’t have to aggregate them again to stack them in a different order. Just change the order of `Stack.build`."
   ]
  },
  {
   "cell_type": "code",
   "execution_count": 28,
   "metadata": {
    "collapsed": false
   },
   "outputs": [
    {
     "ename": "AttributeError",
     "evalue": "'StackedHistogramMethods' object has no attribute 'cuts'",
     "output_type": "error",
     "traceback": [
      "\u001b[0;31m\u001b[0m",
      "\u001b[0;31mAttributeError\u001b[0mTraceback (most recent call last)",
      "\u001b[0;32m<ipython-input-28-a95277e8cb12>\u001b[0m in \u001b[0;36m<module>\u001b[0;34m()\u001b[0m\n\u001b[1;32m      1\u001b[0m \u001b[0mstack\u001b[0m \u001b[0;34m=\u001b[0m \u001b[0mhistogrammar\u001b[0m\u001b[0;34m.\u001b[0m\u001b[0mStack\u001b[0m\u001b[0;34m.\u001b[0m\u001b[0mbuild\u001b[0m\u001b[0;34m(\u001b[0m\u001b[0mjetsPlot\u001b[0m\u001b[0;34m,\u001b[0m \u001b[0mmuonsPlot\u001b[0m\u001b[0;34m)\u001b[0m\u001b[0;34m\u001b[0m\u001b[0m\n\u001b[1;32m      2\u001b[0m \u001b[0;34m\u001b[0m\u001b[0m\n\u001b[0;32m----> 3\u001b[0;31m \u001b[0mroothist\u001b[0m \u001b[0;34m=\u001b[0m \u001b[0mstack\u001b[0m\u001b[0;34m.\u001b[0m\u001b[0mplot\u001b[0m\u001b[0;34m.\u001b[0m\u001b[0mroot\u001b[0m\u001b[0;34m(\u001b[0m\u001b[0;34m\"name19\"\u001b[0m\u001b[0;34m,\u001b[0m \u001b[0;34m\"name20\"\u001b[0m\u001b[0;34m)\u001b[0m\u001b[0;34m\u001b[0m\u001b[0m\n\u001b[0m\u001b[1;32m      4\u001b[0m \u001b[0;32mfor\u001b[0m \u001b[0mi\u001b[0m\u001b[0;34m,\u001b[0m \u001b[0mh\u001b[0m \u001b[0;32min\u001b[0m \u001b[0menumerate\u001b[0m\u001b[0;34m(\u001b[0m\u001b[0mreversed\u001b[0m\u001b[0;34m(\u001b[0m\u001b[0mroothist\u001b[0m\u001b[0;34m.\u001b[0m\u001b[0mvalues\u001b[0m\u001b[0;34m(\u001b[0m\u001b[0;34m)\u001b[0m\u001b[0;34m)\u001b[0m\u001b[0;34m)\u001b[0m\u001b[0;34m:\u001b[0m\u001b[0;34m\u001b[0m\u001b[0m\n\u001b[1;32m      5\u001b[0m     \u001b[0mh\u001b[0m\u001b[0;34m.\u001b[0m\u001b[0mSetFillColor\u001b[0m\u001b[0;34m(\u001b[0m\u001b[0mi\u001b[0m \u001b[0;34m+\u001b[0m \u001b[0;36m2\u001b[0m\u001b[0;34m)\u001b[0m\u001b[0;34m\u001b[0m\u001b[0m\n",
      "\u001b[0;32m/eos/user/v/vcroft/.local/lib/python2.7/site-packages/histogrammar/plot/root.pyc\u001b[0m in \u001b[0;36mplotroot\u001b[0;34m(self, *names)\u001b[0m\n\u001b[1;32m    190\u001b[0m         \u001b[0;32mimport\u001b[0m \u001b[0mROOT\u001b[0m\u001b[0;34m\u001b[0m\u001b[0m\n\u001b[1;32m    191\u001b[0m         \u001b[0mout\u001b[0m \u001b[0;34m=\u001b[0m \u001b[0mOrderedDict\u001b[0m\u001b[0;34m(\u001b[0m\u001b[0;34m)\u001b[0m\u001b[0;34m\u001b[0m\u001b[0m\n\u001b[0;32m--> 192\u001b[0;31m         \u001b[0;32mfor\u001b[0m \u001b[0mn\u001b[0m\u001b[0;34m,\u001b[0m \u001b[0;34m(\u001b[0m\u001b[0mc\u001b[0m\u001b[0;34m,\u001b[0m \u001b[0mv\u001b[0m\u001b[0;34m)\u001b[0m \u001b[0;32min\u001b[0m \u001b[0mzip\u001b[0m\u001b[0;34m(\u001b[0m\u001b[0mnames\u001b[0m\u001b[0;34m,\u001b[0m \u001b[0mself\u001b[0m\u001b[0;34m.\u001b[0m\u001b[0mcuts\u001b[0m\u001b[0;34m)\u001b[0m\u001b[0;34m:\u001b[0m\u001b[0;34m\u001b[0m\u001b[0m\n\u001b[0m\u001b[1;32m    193\u001b[0m             \u001b[0;32mif\u001b[0m \u001b[0misinstance\u001b[0m\u001b[0;34m(\u001b[0m\u001b[0mn\u001b[0m\u001b[0;34m,\u001b[0m \u001b[0;34m(\u001b[0m\u001b[0mlist\u001b[0m\u001b[0;34m,\u001b[0m \u001b[0mtuple\u001b[0m\u001b[0;34m)\u001b[0m\u001b[0;34m)\u001b[0m \u001b[0;32mand\u001b[0m \u001b[0mlen\u001b[0m\u001b[0;34m(\u001b[0m\u001b[0mn\u001b[0m\u001b[0;34m)\u001b[0m \u001b[0;34m==\u001b[0m \u001b[0;36m2\u001b[0m\u001b[0;34m:\u001b[0m\u001b[0;34m\u001b[0m\u001b[0m\n\u001b[1;32m    194\u001b[0m                 \u001b[0mname\u001b[0m\u001b[0;34m,\u001b[0m \u001b[0mtitle\u001b[0m \u001b[0;34m=\u001b[0m \u001b[0mn\u001b[0m\u001b[0;34m\u001b[0m\u001b[0m\n",
      "\u001b[0;31mAttributeError\u001b[0m: 'StackedHistogramMethods' object has no attribute 'cuts'"
     ]
    }
   ],
   "source": [
    "stack = histogrammar.Stack.build(jetsPlot, muonsPlot)\n",
    "\n",
    "roothist = stack.plot.root(\"name19\", \"name20\")\n",
    "for i, h in enumerate(reversed(roothist.values())):\n",
    "    h.SetFillColor(i + 2)\n",
    "\n",
    "roothist.Draw()\n",
    "c1.Draw()"
   ]
  },
  {
   "cell_type": "markdown",
   "metadata": {},
   "source": [
    "The first order was better.)\n",
    "\n",
    "Getting back to the relationship between `Fraction`, `Stack`, and `IrregularlyBin`, a `Fraction` is just a `Stack` with one cut. That is,"
   ]
  },
  {
   "cell_type": "code",
   "execution_count": 29,
   "metadata": {
    "collapsed": true
   },
   "outputs": [],
   "source": [
    "frac = histogrammar.Fraction(lambda event: event.numPrimaryVertices > 5,\n",
    "                histogrammar.Bin(30, 0, 100, lambda event: event.met.pt))"
   ]
  },
  {
   "cell_type": "markdown",
   "metadata": {},
   "source": [
    "is the same thing as"
   ]
  },
  {
   "cell_type": "code",
   "execution_count": 31,
   "metadata": {
    "collapsed": true
   },
   "outputs": [],
   "source": [
    "frac = histogrammar.Stack([5], lambda event: event.numPrimaryVertices,\n",
    "             histogrammar.Bin(30, 0, 100, lambda event: event.met.pt))\n",
    "\n",
    "# denominator is frac.values[0]\n",
    "# numerator is frac.values[1]"
   ]
  },
  {
   "cell_type": "markdown",
   "metadata": {},
   "source": [
    "So what’s `IrregularlyBin`? An event that satisfies a `Stack` threshold fills all sub-aggregators up to and including that one. Each sub-aggregator in the list covers a subinterval of the previous one. As a Venn diagram, the domains the sub-aggregators in a `Stack` cover would look like this:\n",
    "\n",
    "![venn](./Outputs/stack_venn.png \"cuts in a venn\")\n",
    "\n",
    "An event that satisfies a IrregularlyBin threshold fills exactly one sub-aggregator: their domains partition the space with a Venn diagram that looks like this:\n",
    "\n",
    "![part](./Outputs/partition_venn.png \"parts in a venn\")\n",
    "\n",
    "After filling, you simply overlay the plots. The `Stack` is guaranteed to not overlap because the first (back) histogram contains all events, the next contains a subset, etc. The plots of a `IrregularlyBin` may overlap, but each represents a distinct set of events.\n",
    "\n",
    "Here is a real-world use of `Stack` and `IrregularlyBin`. You might want to compare the momenta of muons measured by different parts of the detector (these cuts on pseudorapidity (`eta`) correspond to qualitatively different parts of the CMS detector, which is where these data originated)."
   ]
  },
  {
   "cell_type": "code",
   "execution_count": 33,
   "metadata": {
    "collapsed": false
   },
   "outputs": [
    {
     "ename": "AttributeError",
     "evalue": "'StackedHistogramMethods' object has no attribute 'cuts'",
     "output_type": "error",
     "traceback": [
      "\u001b[0;31m\u001b[0m",
      "\u001b[0;31mAttributeError\u001b[0mTraceback (most recent call last)",
      "\u001b[0;32m<ipython-input-33-a8c9dad62ddf>\u001b[0m in \u001b[0;36m<module>\u001b[0;34m()\u001b[0m\n\u001b[1;32m     12\u001b[0m         \u001b[0mpartition\u001b[0m\u001b[0;34m.\u001b[0m\u001b[0mfill\u001b[0m\u001b[0;34m(\u001b[0m\u001b[0mmuon\u001b[0m\u001b[0;34m)\u001b[0m\u001b[0;34m\u001b[0m\u001b[0m\n\u001b[1;32m     13\u001b[0m \u001b[0;34m\u001b[0m\u001b[0m\n\u001b[0;32m---> 14\u001b[0;31m \u001b[0mrootstack\u001b[0m \u001b[0;34m=\u001b[0m \u001b[0mstack\u001b[0m\u001b[0;34m.\u001b[0m\u001b[0mplot\u001b[0m\u001b[0;34m.\u001b[0m\u001b[0mroot\u001b[0m\u001b[0;34m(\u001b[0m\u001b[0;34m\"barrel\"\u001b[0m\u001b[0;34m,\u001b[0m \u001b[0;34m\"overlap\"\u001b[0m\u001b[0;34m,\u001b[0m \u001b[0;34m\"endcap-2\"\u001b[0m\u001b[0;34m,\u001b[0m \u001b[0;34m\"endcap-1\"\u001b[0m\u001b[0;34m)\u001b[0m\u001b[0;34m\u001b[0m\u001b[0m\n\u001b[0m\u001b[1;32m     15\u001b[0m \u001b[0;32mfor\u001b[0m \u001b[0mi\u001b[0m\u001b[0;34m,\u001b[0m \u001b[0mh\u001b[0m \u001b[0;32min\u001b[0m \u001b[0menumerate\u001b[0m\u001b[0;34m(\u001b[0m\u001b[0mrootstack\u001b[0m\u001b[0;34m.\u001b[0m\u001b[0mvalues\u001b[0m\u001b[0;34m(\u001b[0m\u001b[0;34m)\u001b[0m\u001b[0;34m)\u001b[0m\u001b[0;34m:\u001b[0m\u001b[0;34m\u001b[0m\u001b[0m\n\u001b[1;32m     16\u001b[0m     \u001b[0mh\u001b[0m\u001b[0;34m.\u001b[0m\u001b[0mSetFillColor\u001b[0m\u001b[0;34m(\u001b[0m\u001b[0mi\u001b[0m \u001b[0;34m+\u001b[0m \u001b[0;36m2\u001b[0m\u001b[0;34m)\u001b[0m\u001b[0;34m\u001b[0m\u001b[0m\n",
      "\u001b[0;32m/eos/user/v/vcroft/.local/lib/python2.7/site-packages/histogrammar/plot/root.pyc\u001b[0m in \u001b[0;36mplotroot\u001b[0;34m(self, *names)\u001b[0m\n\u001b[1;32m    190\u001b[0m         \u001b[0;32mimport\u001b[0m \u001b[0mROOT\u001b[0m\u001b[0;34m\u001b[0m\u001b[0m\n\u001b[1;32m    191\u001b[0m         \u001b[0mout\u001b[0m \u001b[0;34m=\u001b[0m \u001b[0mOrderedDict\u001b[0m\u001b[0;34m(\u001b[0m\u001b[0;34m)\u001b[0m\u001b[0;34m\u001b[0m\u001b[0m\n\u001b[0;32m--> 192\u001b[0;31m         \u001b[0;32mfor\u001b[0m \u001b[0mn\u001b[0m\u001b[0;34m,\u001b[0m \u001b[0;34m(\u001b[0m\u001b[0mc\u001b[0m\u001b[0;34m,\u001b[0m \u001b[0mv\u001b[0m\u001b[0;34m)\u001b[0m \u001b[0;32min\u001b[0m \u001b[0mzip\u001b[0m\u001b[0;34m(\u001b[0m\u001b[0mnames\u001b[0m\u001b[0;34m,\u001b[0m \u001b[0mself\u001b[0m\u001b[0;34m.\u001b[0m\u001b[0mcuts\u001b[0m\u001b[0;34m)\u001b[0m\u001b[0;34m:\u001b[0m\u001b[0;34m\u001b[0m\u001b[0m\n\u001b[0m\u001b[1;32m    193\u001b[0m             \u001b[0;32mif\u001b[0m \u001b[0misinstance\u001b[0m\u001b[0;34m(\u001b[0m\u001b[0mn\u001b[0m\u001b[0;34m,\u001b[0m \u001b[0;34m(\u001b[0m\u001b[0mlist\u001b[0m\u001b[0;34m,\u001b[0m \u001b[0mtuple\u001b[0m\u001b[0;34m)\u001b[0m\u001b[0;34m)\u001b[0m \u001b[0;32mand\u001b[0m \u001b[0mlen\u001b[0m\u001b[0;34m(\u001b[0m\u001b[0mn\u001b[0m\u001b[0;34m)\u001b[0m \u001b[0;34m==\u001b[0m \u001b[0;36m2\u001b[0m\u001b[0;34m:\u001b[0m\u001b[0;34m\u001b[0m\u001b[0m\n\u001b[1;32m    194\u001b[0m                 \u001b[0mname\u001b[0m\u001b[0;34m,\u001b[0m \u001b[0mtitle\u001b[0m \u001b[0;34m=\u001b[0m \u001b[0mn\u001b[0m\u001b[0;34m\u001b[0m\u001b[0m\n",
      "\u001b[0;31mAttributeError\u001b[0m: 'StackedHistogramMethods' object has no attribute 'cuts'"
     ]
    }
   ],
   "source": [
    "stack = histogrammar.Stack([0.8, 1.2, 1.7], lambda muon: abs(muon.eta),\n",
    "              histogrammar.Bin(50, 0, 200, lambda muon: muon.p))\n",
    "\n",
    "partition = histogrammar.IrregularlyBin([0.8, 1.2, 1.7], lambda muon: abs(muon.eta),\n",
    "                           histogrammar.Bin(50, 0, 200, lambda muon: muon.p))\n",
    "\n",
    "events = cmsdata.EventIterator()\n",
    "for i, event in enumerate(events):\n",
    "    if i == 10000: break\n",
    "    for muon in event.muons:\n",
    "        stack.fill(muon)\n",
    "        partition.fill(muon)\n",
    "\n",
    "rootstack = stack.plot.root(\"barrel\", \"overlap\", \"endcap-2\", \"endcap-1\")\n",
    "for i, h in enumerate(rootstack.values()):\n",
    "    h.SetFillColor(i + 2)\n",
    "\n",
    "rootstack.Draw()\n",
    "c1.Draw()"
   ]
  },
  {
   "cell_type": "code",
   "execution_count": 34,
   "metadata": {
    "collapsed": false,
    "scrolled": true
   },
   "outputs": [
    {
     "ename": "AttributeError",
     "evalue": "'PartitionedHistogramMethods' object has no attribute 'cuts'",
     "output_type": "error",
     "traceback": [
      "\u001b[0;31m\u001b[0m",
      "\u001b[0;31mAttributeError\u001b[0mTraceback (most recent call last)",
      "\u001b[0;32m<ipython-input-34-6b91ab41ccde>\u001b[0m in \u001b[0;36m<module>\u001b[0;34m()\u001b[0m\n\u001b[0;32m----> 1\u001b[0;31m \u001b[0mrootpartition\u001b[0m \u001b[0;34m=\u001b[0m \u001b[0mpartition\u001b[0m\u001b[0;34m.\u001b[0m\u001b[0mplot\u001b[0m\u001b[0;34m.\u001b[0m\u001b[0mroot\u001b[0m\u001b[0;34m(\u001b[0m\u001b[0;34m\"barrel\"\u001b[0m\u001b[0;34m,\u001b[0m \u001b[0;34m\"overlap\"\u001b[0m\u001b[0;34m,\u001b[0m \u001b[0;34m\"endcap-2\"\u001b[0m\u001b[0;34m,\u001b[0m \u001b[0;34m\"endcap-1\"\u001b[0m\u001b[0;34m)\u001b[0m\u001b[0;34m\u001b[0m\u001b[0m\n\u001b[0m\u001b[1;32m      2\u001b[0m \u001b[0;32mfor\u001b[0m \u001b[0mi\u001b[0m\u001b[0;34m,\u001b[0m \u001b[0mh\u001b[0m \u001b[0;32min\u001b[0m \u001b[0menumerate\u001b[0m\u001b[0;34m(\u001b[0m\u001b[0mrootpartition\u001b[0m\u001b[0;34m.\u001b[0m\u001b[0mvalues\u001b[0m\u001b[0;34m(\u001b[0m\u001b[0;34m)\u001b[0m\u001b[0;34m)\u001b[0m\u001b[0;34m:\u001b[0m\u001b[0;34m\u001b[0m\u001b[0m\n\u001b[1;32m      3\u001b[0m     \u001b[0mh\u001b[0m\u001b[0;34m.\u001b[0m\u001b[0mSetLineColor\u001b[0m\u001b[0;34m(\u001b[0m\u001b[0mi\u001b[0m \u001b[0;34m+\u001b[0m \u001b[0;36m2\u001b[0m\u001b[0;34m)\u001b[0m\u001b[0;34m\u001b[0m\u001b[0m\n\u001b[1;32m      4\u001b[0m     \u001b[0mh\u001b[0m\u001b[0;34m.\u001b[0m\u001b[0mSetLineWidth\u001b[0m\u001b[0;34m(\u001b[0m\u001b[0;36m2\u001b[0m\u001b[0;34m)\u001b[0m\u001b[0;34m\u001b[0m\u001b[0m\n\u001b[1;32m      5\u001b[0m \u001b[0;34m\u001b[0m\u001b[0m\n",
      "\u001b[0;32m/eos/user/v/vcroft/.local/lib/python2.7/site-packages/histogrammar/plot/root.pyc\u001b[0m in \u001b[0;36mplotroot\u001b[0;34m(self, *names)\u001b[0m\n\u001b[1;32m    212\u001b[0m         \u001b[0;32mimport\u001b[0m \u001b[0mROOT\u001b[0m\u001b[0;34m\u001b[0m\u001b[0m\n\u001b[1;32m    213\u001b[0m         \u001b[0mout\u001b[0m \u001b[0;34m=\u001b[0m \u001b[0mOrderedDict\u001b[0m\u001b[0;34m(\u001b[0m\u001b[0;34m)\u001b[0m\u001b[0;34m\u001b[0m\u001b[0m\n\u001b[0;32m--> 214\u001b[0;31m         \u001b[0;32mfor\u001b[0m \u001b[0mn\u001b[0m\u001b[0;34m,\u001b[0m \u001b[0;34m(\u001b[0m\u001b[0mc\u001b[0m\u001b[0;34m,\u001b[0m \u001b[0mv\u001b[0m\u001b[0;34m)\u001b[0m \u001b[0;32min\u001b[0m \u001b[0mzip\u001b[0m\u001b[0;34m(\u001b[0m\u001b[0mnames\u001b[0m\u001b[0;34m,\u001b[0m \u001b[0mself\u001b[0m\u001b[0;34m.\u001b[0m\u001b[0mcuts\u001b[0m\u001b[0;34m)\u001b[0m\u001b[0;34m:\u001b[0m\u001b[0;34m\u001b[0m\u001b[0m\n\u001b[0m\u001b[1;32m    215\u001b[0m             \u001b[0;32mif\u001b[0m \u001b[0misinstance\u001b[0m\u001b[0;34m(\u001b[0m\u001b[0mn\u001b[0m\u001b[0;34m,\u001b[0m \u001b[0;34m(\u001b[0m\u001b[0mlist\u001b[0m\u001b[0;34m,\u001b[0m \u001b[0mtuple\u001b[0m\u001b[0;34m)\u001b[0m\u001b[0;34m)\u001b[0m \u001b[0;32mand\u001b[0m \u001b[0mlen\u001b[0m\u001b[0;34m(\u001b[0m\u001b[0mn\u001b[0m\u001b[0;34m)\u001b[0m \u001b[0;34m==\u001b[0m \u001b[0;36m2\u001b[0m\u001b[0;34m:\u001b[0m\u001b[0;34m\u001b[0m\u001b[0m\n\u001b[1;32m    216\u001b[0m                 \u001b[0mname\u001b[0m\u001b[0;34m,\u001b[0m \u001b[0mtitle\u001b[0m \u001b[0;34m=\u001b[0m \u001b[0mn\u001b[0m\u001b[0;34m\u001b[0m\u001b[0m\n",
      "\u001b[0;31mAttributeError\u001b[0m: 'PartitionedHistogramMethods' object has no attribute 'cuts'"
     ]
    }
   ],
   "source": [
    "rootpartition = partition.plot.root(\"barrel\", \"overlap\", \"endcap-2\", \"endcap-1\")\n",
    "for i, h in enumerate(rootpartition.values()):\n",
    "    h.SetLineColor(i + 2)\n",
    "    h.SetLineWidth(2)\n",
    "\n",
    "rootpartition.Draw()\n",
    "c1.Draw()"
   ]
  },
  {
   "cell_type": "markdown",
   "metadata": {},
   "source": [
    "A `IrregularlyBin` could also be used to define a single, irregularly binned histogram by bin edges (as opposed to `CentrallyBin`, which uses bin centers). Just replace the sub-aggregator with `Count()`."
   ]
  },
  {
   "cell_type": "code",
   "execution_count": 36,
   "metadata": {
    "collapsed": false
   },
   "outputs": [
    {
     "ename": "AttributeError",
     "evalue": "'IrregularlyBin' object has no attribute 'cuts'",
     "output_type": "error",
     "traceback": [
      "\u001b[0;31m\u001b[0m",
      "\u001b[0;31mAttributeError\u001b[0mTraceback (most recent call last)",
      "\u001b[0;32m<ipython-input-36-f744279be7f7>\u001b[0m in \u001b[0;36m<module>\u001b[0;34m()\u001b[0m\n\u001b[1;32m      7\u001b[0m         \u001b[0mhistogram\u001b[0m\u001b[0;34m.\u001b[0m\u001b[0mfill\u001b[0m\u001b[0;34m(\u001b[0m\u001b[0mmuon\u001b[0m\u001b[0;34m)\u001b[0m\u001b[0;34m\u001b[0m\u001b[0m\n\u001b[1;32m      8\u001b[0m \u001b[0;34m\u001b[0m\u001b[0m\n\u001b[0;32m----> 9\u001b[0;31m \u001b[0;32mprint\u001b[0m\u001b[0;34m(\u001b[0m\u001b[0mhistogram\u001b[0m\u001b[0;34m.\u001b[0m\u001b[0mcuts\u001b[0m\u001b[0;34m)\u001b[0m\u001b[0;34m\u001b[0m\u001b[0m\n\u001b[0m",
      "\u001b[0;31mAttributeError\u001b[0m: 'IrregularlyBin' object has no attribute 'cuts'"
     ]
    }
   ],
   "source": [
    "histogram = histogrammar.IrregularlyBin([-2.4, -1.7, -1.2, -0.8, 0.0, 0.8, 1.2, 1.7, 2.4],\n",
    "                           lambda muon: muon.eta, histogrammar.Count())\n",
    "\n",
    "for i, event in enumerate(events):\n",
    "    if i == 1000: break\n",
    "    for muon in event.muons:\n",
    "        histogram.fill(muon)\n",
    "\n",
    "print(histogram.cuts)"
   ]
  },
  {
   "cell_type": "markdown",
   "metadata": {},
   "source": [
    "The first bin, for which `muon.eta` is at least minus infinity, has 1 muon. The next, which starts at –2.4 (the approximate edge of the detector), has 70 muons, continuing up to the last bin, which starts at 2.4 (the other edge of the detector), which also has 1 spurious muon. The first and last bins may be thought of as underflow and overflow because they extend to negative and positive infinity, or they may be treated as ordinary bins. The same is true of the first and last bins in a `CentrallyBin`.\n",
    "\n",
    "Although this use of `IrregularlyBin` is not how it was originally intended, it is perfectly valid and should someday have an automated conversion to irregularly binned ROOT histograms. You should think of these primitives as your building blocks, provided to construct whatever statistic you need, and handle converting it to a visualization later."
   ]
  },
  {
   "cell_type": "code",
   "execution_count": null,
   "metadata": {
    "collapsed": true
   },
   "outputs": [],
   "source": []
  }
 ],
 "metadata": {
  "kernelspec": {
   "display_name": "Python 2",
   "language": "python",
   "name": "python2"
  },
  "language_info": {
   "codemirror_mode": {
    "name": "ipython",
    "version": 2
   },
   "file_extension": ".py",
   "mimetype": "text/x-python",
   "name": "python",
   "nbconvert_exporter": "python",
   "pygments_lexer": "ipython2",
   "version": "2.7.10"
  }
 },
 "nbformat": 4,
 "nbformat_minor": 1
}
